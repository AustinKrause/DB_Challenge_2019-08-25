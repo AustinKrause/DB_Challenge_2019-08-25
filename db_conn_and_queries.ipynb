{
 "cells": [
  {
   "cell_type": "markdown",
   "metadata": {},
   "source": [
    "<h1>Import necessary libraries"
   ]
  },
  {
   "cell_type": "code",
   "execution_count": 1,
   "metadata": {},
   "outputs": [],
   "source": [
    "import pandas as pd\n",
    "import psycopg2 as pg\n",
    "import pandas.io.sql as psql"
   ]
  },
  {
   "cell_type": "markdown",
   "metadata": {},
   "source": [
    "<h1>Connect to DB"
   ]
  },
  {
   "cell_type": "code",
   "execution_count": 2,
   "metadata": {},
   "outputs": [
    {
     "data": {
      "text/html": [
       "<div>\n",
       "<style scoped>\n",
       "    .dataframe tbody tr th:only-of-type {\n",
       "        vertical-align: middle;\n",
       "    }\n",
       "\n",
       "    .dataframe tbody tr th {\n",
       "        vertical-align: top;\n",
       "    }\n",
       "\n",
       "    .dataframe thead th {\n",
       "        text-align: right;\n",
       "    }\n",
       "</style>\n",
       "<table border=\"1\" class=\"dataframe\">\n",
       "  <thead>\n",
       "    <tr style=\"text-align: right;\">\n",
       "      <th></th>\n",
       "      <th>count</th>\n",
       "    </tr>\n",
       "  </thead>\n",
       "  <tbody>\n",
       "    <tr>\n",
       "      <th>0</th>\n",
       "      <td>201570</td>\n",
       "    </tr>\n",
       "  </tbody>\n",
       "</table>\n",
       "</div>"
      ],
      "text/plain": [
       "    count\n",
       "0  201570"
      ]
     },
     "execution_count": 2,
     "metadata": {},
     "output_type": "execute_result"
    }
   ],
   "source": [
    "conn = pg.connect(\" dbname='dev' host='njoy-testing-env.c2ag7j9q24ns.us-east-1.rds.amazonaws.com' user='reader' port='5416' password='MbmeL8ku6x'\")\n",
    "df = psql.read_sql('SELECT count(1) from public.orders', conn)\n",
    "df.head()"
   ]
  },
  {
   "cell_type": "code",
   "execution_count": 3,
   "metadata": {},
   "outputs": [],
   "source": [
    "df = psql.read_sql('SELECT * from public.orders', conn)"
   ]
  },
  {
   "cell_type": "markdown",
   "metadata": {},
   "source": [
    "<h1>Preview of DataFrame"
   ]
  },
  {
   "cell_type": "code",
   "execution_count": 4,
   "metadata": {},
   "outputs": [
    {
     "data": {
      "text/html": [
       "<div>\n",
       "<style scoped>\n",
       "    .dataframe tbody tr th:only-of-type {\n",
       "        vertical-align: middle;\n",
       "    }\n",
       "\n",
       "    .dataframe tbody tr th {\n",
       "        vertical-align: top;\n",
       "    }\n",
       "\n",
       "    .dataframe thead th {\n",
       "        text-align: right;\n",
       "    }\n",
       "</style>\n",
       "<table border=\"1\" class=\"dataframe\">\n",
       "  <thead>\n",
       "    <tr style=\"text-align: right;\">\n",
       "      <th></th>\n",
       "      <th>order_id</th>\n",
       "      <th>customer_id</th>\n",
       "      <th>created_at</th>\n",
       "      <th>updated_at</th>\n",
       "      <th>closed_at</th>\n",
       "      <th>processed_at</th>\n",
       "      <th>status</th>\n",
       "      <th>number</th>\n",
       "      <th>total_price</th>\n",
       "      <th>total_less_tax</th>\n",
       "      <th>total_tax</th>\n",
       "      <th>payment_status</th>\n",
       "    </tr>\n",
       "  </thead>\n",
       "  <tbody>\n",
       "    <tr>\n",
       "      <th>0</th>\n",
       "      <td>8.974965e+11</td>\n",
       "      <td>230824c2</td>\n",
       "      <td>2019-03-13 18:14:55</td>\n",
       "      <td>2019-03-13 22:01:40</td>\n",
       "      <td>2019-03-13 22:01:39</td>\n",
       "      <td>2019-03-13 18:14:55.000000</td>\n",
       "      <td>fulfilled</td>\n",
       "      <td>1029702</td>\n",
       "      <td>18.28</td>\n",
       "      <td>17.0</td>\n",
       "      <td>1.28</td>\n",
       "      <td>paid</td>\n",
       "    </tr>\n",
       "    <tr>\n",
       "      <th>1</th>\n",
       "      <td>8.975937e+11</td>\n",
       "      <td>7100545b</td>\n",
       "      <td>2019-03-13 19:33:50</td>\n",
       "      <td>2019-03-13 23:01:21</td>\n",
       "      <td>2019-03-13 23:01:21</td>\n",
       "      <td>2019-03-13 19:33:50.000000</td>\n",
       "      <td>fulfilled</td>\n",
       "      <td>1029768</td>\n",
       "      <td>9.00</td>\n",
       "      <td>9.0</td>\n",
       "      <td>0.00</td>\n",
       "      <td>paid</td>\n",
       "    </tr>\n",
       "    <tr>\n",
       "      <th>2</th>\n",
       "      <td>8.975785e+11</td>\n",
       "      <td>3de1dc29</td>\n",
       "      <td>2019-03-13 19:20:05</td>\n",
       "      <td>2019-03-13 23:01:33</td>\n",
       "      <td>2019-03-13 23:01:33</td>\n",
       "      <td>2019-03-13 19:20:05.000000</td>\n",
       "      <td>fulfilled</td>\n",
       "      <td>1029757</td>\n",
       "      <td>18.02</td>\n",
       "      <td>17.0</td>\n",
       "      <td>1.02</td>\n",
       "      <td>paid</td>\n",
       "    </tr>\n",
       "    <tr>\n",
       "      <th>3</th>\n",
       "      <td>8.976117e+11</td>\n",
       "      <td>cb5e4189</td>\n",
       "      <td>2019-03-13 19:50:09</td>\n",
       "      <td>2019-03-13 23:01:12</td>\n",
       "      <td>2019-03-13 23:01:11</td>\n",
       "      <td>2019-03-13 19:50:09.000000</td>\n",
       "      <td>fulfilled</td>\n",
       "      <td>1029780</td>\n",
       "      <td>9.63</td>\n",
       "      <td>9.0</td>\n",
       "      <td>0.63</td>\n",
       "      <td>paid</td>\n",
       "    </tr>\n",
       "    <tr>\n",
       "      <th>4</th>\n",
       "      <td>8.976406e+11</td>\n",
       "      <td>579c3141</td>\n",
       "      <td>2019-03-13 20:17:01</td>\n",
       "      <td>2019-03-14 00:01:23</td>\n",
       "      <td>2019-03-14 00:01:23</td>\n",
       "      <td>2019-03-13 20:17:01.000000</td>\n",
       "      <td>fulfilled</td>\n",
       "      <td>1029803</td>\n",
       "      <td>9.26</td>\n",
       "      <td>9.0</td>\n",
       "      <td>0.26</td>\n",
       "      <td>paid</td>\n",
       "    </tr>\n",
       "  </tbody>\n",
       "</table>\n",
       "</div>"
      ],
      "text/plain": [
       "       order_id customer_id          created_at          updated_at  \\\n",
       "0  8.974965e+11    230824c2 2019-03-13 18:14:55 2019-03-13 22:01:40   \n",
       "1  8.975937e+11    7100545b 2019-03-13 19:33:50 2019-03-13 23:01:21   \n",
       "2  8.975785e+11    3de1dc29 2019-03-13 19:20:05 2019-03-13 23:01:33   \n",
       "3  8.976117e+11    cb5e4189 2019-03-13 19:50:09 2019-03-13 23:01:12   \n",
       "4  8.976406e+11    579c3141 2019-03-13 20:17:01 2019-03-14 00:01:23   \n",
       "\n",
       "            closed_at                processed_at     status   number  \\\n",
       "0 2019-03-13 22:01:39  2019-03-13 18:14:55.000000  fulfilled  1029702   \n",
       "1 2019-03-13 23:01:21  2019-03-13 19:33:50.000000  fulfilled  1029768   \n",
       "2 2019-03-13 23:01:33  2019-03-13 19:20:05.000000  fulfilled  1029757   \n",
       "3 2019-03-13 23:01:11  2019-03-13 19:50:09.000000  fulfilled  1029780   \n",
       "4 2019-03-14 00:01:23  2019-03-13 20:17:01.000000  fulfilled  1029803   \n",
       "\n",
       "   total_price  total_less_tax  total_tax payment_status  \n",
       "0        18.28            17.0       1.28           paid  \n",
       "1         9.00             9.0       0.00           paid  \n",
       "2        18.02            17.0       1.02           paid  \n",
       "3         9.63             9.0       0.63           paid  \n",
       "4         9.26             9.0       0.26           paid  "
      ]
     },
     "execution_count": 4,
     "metadata": {},
     "output_type": "execute_result"
    }
   ],
   "source": [
    "df.head(5)"
   ]
  },
  {
   "cell_type": "code",
   "execution_count": 5,
   "metadata": {},
   "outputs": [
    {
     "data": {
      "text/plain": [
       "(201570, 12)"
      ]
     },
     "execution_count": 5,
     "metadata": {},
     "output_type": "execute_result"
    }
   ],
   "source": [
    "df.shape"
   ]
  },
  {
   "cell_type": "markdown",
   "metadata": {},
   "source": [
    "<h1>Query 1</h1>\n",
    "<h6>We need basic insight into hourly sales performance. We'd like a query that shows the following metrics by hour: <br>\n",
    "revenue (total_price less total_tax)<br>\n",
    "total number of orders<br>\n",
    "number of orders placed by a customer who has previously placed an order<br>"
   ]
  },
  {
   "cell_type": "markdown",
   "metadata": {},
   "source": [
    "To make this task easier, I create a column that seperates the hour that each order closed at"
   ]
  },
  {
   "cell_type": "code",
   "execution_count": 6,
   "metadata": {},
   "outputs": [],
   "source": [
    "df['closed_hour'] = df['closed_at'].dt.hour"
   ]
  },
  {
   "cell_type": "code",
   "execution_count": 7,
   "metadata": {},
   "outputs": [],
   "source": [
    "#get initial hourly performance\n",
    "#this groupby gives the hourly revenue and total amount of orders\n",
    "hourly_orders = df.groupby('closed_hour')['total_less_tax'].agg(['sum','count']).reset_index()"
   ]
  },
  {
   "cell_type": "code",
   "execution_count": 8,
   "metadata": {},
   "outputs": [],
   "source": [
    "#this groupby gives each customers orders grouped together\n",
    "customer_counts = df.groupby('customer_id').count().reset_index().sort_values('order_id', ascending = False)"
   ]
  },
  {
   "cell_type": "markdown",
   "metadata": {},
   "source": [
    "There are a total of 181,105 customers in the database"
   ]
  },
  {
   "cell_type": "code",
   "execution_count": 9,
   "metadata": {},
   "outputs": [
    {
     "data": {
      "text/plain": [
       "(181105, 13)"
      ]
     },
     "execution_count": 9,
     "metadata": {},
     "output_type": "execute_result"
    }
   ],
   "source": [
    "customer_counts.shape"
   ]
  },
  {
   "cell_type": "markdown",
   "metadata": {},
   "source": [
    "Of the 181,105 customers, 19,339 have made more than 1 purchase shown below"
   ]
  },
  {
   "cell_type": "code",
   "execution_count": 10,
   "metadata": {},
   "outputs": [],
   "source": [
    "returning_customers = customer_counts.loc[customer_counts['order_id'] > 1][['customer_id', 'order_id']]"
   ]
  },
  {
   "cell_type": "code",
   "execution_count": 11,
   "metadata": {},
   "outputs": [
    {
     "data": {
      "text/plain": [
       "(19339, 2)"
      ]
     },
     "execution_count": 11,
     "metadata": {},
     "output_type": "execute_result"
    }
   ],
   "source": [
    "returning_customers.shape"
   ]
  },
  {
   "cell_type": "markdown",
   "metadata": {},
   "source": [
    "This function counts the specific hours that each returning customer made their purchases. There were many nan values, so I used a try and except feature to only count values that are integers."
   ]
  },
  {
   "cell_type": "code",
   "execution_count": 14,
   "metadata": {},
   "outputs": [],
   "source": [
    "def find_hours_of_returning_customers():\n",
    "    #create empty dictionary to hold hourly counts\n",
    "    returning_customer_hours = {}\n",
    "    \n",
    "    #use list of returning customers\n",
    "    for customer in returning_customers.customer_id.to_list():\n",
    "        #locate each customers individual orders\n",
    "        order_hours = df.loc[df['customer_id'] == customer].closed_hour.to_list()\n",
    "        for i in order_hours:\n",
    "            try:\n",
    "                #for each purchase, check if the hour is in the dictionary, if not add it\n",
    "                if int(i) not in returning_customer_hours.keys():\n",
    "                    returning_customer_hours.update({i: 1})\n",
    "                    \n",
    "                #if the hour is already in the dictionary, increment by 1\n",
    "                else:\n",
    "                    returning_customer_hours[i] += 1\n",
    "                    \n",
    "            #if the value is not an integer, do not count it\n",
    "            except:\n",
    "                pass\n",
    "    return returning_customer_hours"
   ]
  },
  {
   "cell_type": "code",
   "execution_count": 15,
   "metadata": {},
   "outputs": [],
   "source": [
    "total_returning_per_hour = find_hours_of_returning_customers()"
   ]
  },
  {
   "cell_type": "markdown",
   "metadata": {},
   "source": [
    "After finding the hourly totals from returning customers, I make a dataframe from the dictionary, then sort it by hour."
   ]
  },
  {
   "cell_type": "code",
   "execution_count": 16,
   "metadata": {},
   "outputs": [],
   "source": [
    "returning_df = pd.DataFrame(total_returning_per_hour, index = ['number']).transpose().reset_index()\n",
    "returning_df_sorted = returning_df.sort_values('index')"
   ]
  },
  {
   "cell_type": "markdown",
   "metadata": {},
   "source": [
    "Finally, merge the new dataframe with the existing hourly_orders dataframe."
   ]
  },
  {
   "cell_type": "code",
   "execution_count": 17,
   "metadata": {},
   "outputs": [],
   "source": [
    "final_orders = pd.merge(hourly_orders, returning_df_sorted, left_on='closed_hour', right_on='index')\n",
    "final_orders = final_orders.drop(['index'], axis = 1)\n",
    "final_orders.columns = ['hour', 'total_revenue', 'num_orders', 'num_returning_customers']"
   ]
  },
  {
   "cell_type": "markdown",
   "metadata": {},
   "source": [
    "Final results for query 1"
   ]
  },
  {
   "cell_type": "code",
   "execution_count": 18,
   "metadata": {},
   "outputs": [
    {
     "data": {
      "text/html": [
       "<div>\n",
       "<style scoped>\n",
       "    .dataframe tbody tr th:only-of-type {\n",
       "        vertical-align: middle;\n",
       "    }\n",
       "\n",
       "    .dataframe tbody tr th {\n",
       "        vertical-align: top;\n",
       "    }\n",
       "\n",
       "    .dataframe thead th {\n",
       "        text-align: right;\n",
       "    }\n",
       "</style>\n",
       "<table border=\"1\" class=\"dataframe\">\n",
       "  <thead>\n",
       "    <tr style=\"text-align: right;\">\n",
       "      <th></th>\n",
       "      <th>hour</th>\n",
       "      <th>total_revenue</th>\n",
       "      <th>num_orders</th>\n",
       "      <th>num_returning_customers</th>\n",
       "    </tr>\n",
       "  </thead>\n",
       "  <tbody>\n",
       "    <tr>\n",
       "      <th>0</th>\n",
       "      <td>0.0</td>\n",
       "      <td>54508.00</td>\n",
       "      <td>4481</td>\n",
       "      <td>585</td>\n",
       "    </tr>\n",
       "    <tr>\n",
       "      <th>1</th>\n",
       "      <td>1.0</td>\n",
       "      <td>62859.27</td>\n",
       "      <td>5495</td>\n",
       "      <td>706</td>\n",
       "    </tr>\n",
       "    <tr>\n",
       "      <th>2</th>\n",
       "      <td>13.0</td>\n",
       "      <td>137.00</td>\n",
       "      <td>6</td>\n",
       "      <td>3</td>\n",
       "    </tr>\n",
       "    <tr>\n",
       "      <th>3</th>\n",
       "      <td>14.0</td>\n",
       "      <td>43279.00</td>\n",
       "      <td>3973</td>\n",
       "      <td>241</td>\n",
       "    </tr>\n",
       "    <tr>\n",
       "      <th>4</th>\n",
       "      <td>15.0</td>\n",
       "      <td>18872.50</td>\n",
       "      <td>1838</td>\n",
       "      <td>148</td>\n",
       "    </tr>\n",
       "    <tr>\n",
       "      <th>5</th>\n",
       "      <td>16.0</td>\n",
       "      <td>185631.40</td>\n",
       "      <td>18287</td>\n",
       "      <td>2881</td>\n",
       "    </tr>\n",
       "    <tr>\n",
       "      <th>6</th>\n",
       "      <td>17.0</td>\n",
       "      <td>438159.20</td>\n",
       "      <td>45940</td>\n",
       "      <td>10063</td>\n",
       "    </tr>\n",
       "    <tr>\n",
       "      <th>7</th>\n",
       "      <td>18.0</td>\n",
       "      <td>522385.90</td>\n",
       "      <td>54200</td>\n",
       "      <td>12533</td>\n",
       "    </tr>\n",
       "    <tr>\n",
       "      <th>8</th>\n",
       "      <td>19.0</td>\n",
       "      <td>233999.00</td>\n",
       "      <td>23461</td>\n",
       "      <td>4219</td>\n",
       "    </tr>\n",
       "    <tr>\n",
       "      <th>9</th>\n",
       "      <td>20.0</td>\n",
       "      <td>152570.80</td>\n",
       "      <td>14325</td>\n",
       "      <td>3369</td>\n",
       "    </tr>\n",
       "    <tr>\n",
       "      <th>10</th>\n",
       "      <td>21.0</td>\n",
       "      <td>114032.70</td>\n",
       "      <td>10652</td>\n",
       "      <td>1455</td>\n",
       "    </tr>\n",
       "    <tr>\n",
       "      <th>11</th>\n",
       "      <td>22.0</td>\n",
       "      <td>81454.50</td>\n",
       "      <td>7869</td>\n",
       "      <td>1398</td>\n",
       "    </tr>\n",
       "    <tr>\n",
       "      <th>12</th>\n",
       "      <td>23.0</td>\n",
       "      <td>55753.70</td>\n",
       "      <td>4385</td>\n",
       "      <td>528</td>\n",
       "    </tr>\n",
       "  </tbody>\n",
       "</table>\n",
       "</div>"
      ],
      "text/plain": [
       "    hour  total_revenue  num_orders  num_returning_customers\n",
       "0    0.0       54508.00        4481                      585\n",
       "1    1.0       62859.27        5495                      706\n",
       "2   13.0         137.00           6                        3\n",
       "3   14.0       43279.00        3973                      241\n",
       "4   15.0       18872.50        1838                      148\n",
       "5   16.0      185631.40       18287                     2881\n",
       "6   17.0      438159.20       45940                    10063\n",
       "7   18.0      522385.90       54200                    12533\n",
       "8   19.0      233999.00       23461                     4219\n",
       "9   20.0      152570.80       14325                     3369\n",
       "10  21.0      114032.70       10652                     1455\n",
       "11  22.0       81454.50        7869                     1398\n",
       "12  23.0       55753.70        4385                      528"
      ]
     },
     "execution_count": 18,
     "metadata": {},
     "output_type": "execute_result"
    }
   ],
   "source": [
    "final_orders"
   ]
  },
  {
   "cell_type": "markdown",
   "metadata": {},
   "source": [
    "<h1>Query 2</h1>\n",
    "<h6>Upon further inspection, it has been noticed that there are a number of hours for which there are no orders. It's not clear why, so we'd like a query that lists all hours for which there are no orders.\n"
   ]
  },
  {
   "cell_type": "code",
   "execution_count": 19,
   "metadata": {},
   "outputs": [],
   "source": [
    "hours_with_orders = df.groupby(df.closed_hour).count().reset_index()['closed_hour'].to_list()"
   ]
  },
  {
   "cell_type": "markdown",
   "metadata": {},
   "source": [
    "Build out a simple function to check which hours are not included in hours_with_orders"
   ]
  },
  {
   "cell_type": "code",
   "execution_count": 20,
   "metadata": {},
   "outputs": [],
   "source": [
    "def find_hours_without_orders(hourly_orders):\n",
    "    all_hours = list(range(0,24))\n",
    "    \n",
    "    #create empty list to hold hours without orders\n",
    "    hours_without_orders = []\n",
    "    \n",
    "    #check each hour to see if it has orders\n",
    "    for hour in all_hours:\n",
    "        if hour not in hourly_orders:\n",
    "            hours_without_orders.append(hour)\n",
    "    \n",
    "    return hours_without_orders"
   ]
  },
  {
   "cell_type": "code",
   "execution_count": 21,
   "metadata": {},
   "outputs": [],
   "source": [
    "hours_without_orders = find_hours_without_orders(hours_with_orders)\n",
    "no_orders = pd.DataFrame(hours_without_orders)\n",
    "no_orders.columns = ['hour']"
   ]
  },
  {
   "cell_type": "markdown",
   "metadata": {},
   "source": [
    "Final results for query 2"
   ]
  },
  {
   "cell_type": "code",
   "execution_count": 22,
   "metadata": {},
   "outputs": [
    {
     "data": {
      "text/html": [
       "<div>\n",
       "<style scoped>\n",
       "    .dataframe tbody tr th:only-of-type {\n",
       "        vertical-align: middle;\n",
       "    }\n",
       "\n",
       "    .dataframe tbody tr th {\n",
       "        vertical-align: top;\n",
       "    }\n",
       "\n",
       "    .dataframe thead th {\n",
       "        text-align: right;\n",
       "    }\n",
       "</style>\n",
       "<table border=\"1\" class=\"dataframe\">\n",
       "  <thead>\n",
       "    <tr style=\"text-align: right;\">\n",
       "      <th></th>\n",
       "      <th>hour</th>\n",
       "    </tr>\n",
       "  </thead>\n",
       "  <tbody>\n",
       "    <tr>\n",
       "      <th>0</th>\n",
       "      <td>2</td>\n",
       "    </tr>\n",
       "    <tr>\n",
       "      <th>1</th>\n",
       "      <td>3</td>\n",
       "    </tr>\n",
       "    <tr>\n",
       "      <th>2</th>\n",
       "      <td>4</td>\n",
       "    </tr>\n",
       "    <tr>\n",
       "      <th>3</th>\n",
       "      <td>5</td>\n",
       "    </tr>\n",
       "    <tr>\n",
       "      <th>4</th>\n",
       "      <td>6</td>\n",
       "    </tr>\n",
       "    <tr>\n",
       "      <th>5</th>\n",
       "      <td>7</td>\n",
       "    </tr>\n",
       "    <tr>\n",
       "      <th>6</th>\n",
       "      <td>8</td>\n",
       "    </tr>\n",
       "    <tr>\n",
       "      <th>7</th>\n",
       "      <td>9</td>\n",
       "    </tr>\n",
       "    <tr>\n",
       "      <th>8</th>\n",
       "      <td>10</td>\n",
       "    </tr>\n",
       "    <tr>\n",
       "      <th>9</th>\n",
       "      <td>11</td>\n",
       "    </tr>\n",
       "    <tr>\n",
       "      <th>10</th>\n",
       "      <td>12</td>\n",
       "    </tr>\n",
       "  </tbody>\n",
       "</table>\n",
       "</div>"
      ],
      "text/plain": [
       "    hour\n",
       "0      2\n",
       "1      3\n",
       "2      4\n",
       "3      5\n",
       "4      6\n",
       "5      7\n",
       "6      8\n",
       "7      9\n",
       "8     10\n",
       "9     11\n",
       "10    12"
      ]
     },
     "execution_count": 22,
     "metadata": {},
     "output_type": "execute_result"
    }
   ],
   "source": [
    "no_orders"
   ]
  },
  {
   "cell_type": "markdown",
   "metadata": {},
   "source": [
    "<h1>Query 3</h1>\n",
    "<h6>Your query from #1 may not have accounted for hours for which there are no orders. Copy your query from #1 and ammend the query to show \"0\" for all metrics when there is no data for a given hour."
   ]
  },
  {
   "cell_type": "markdown",
   "metadata": {},
   "source": [
    "For this query, I just need to join the two dataframes from query 1 and query 2"
   ]
  },
  {
   "cell_type": "code",
   "execution_count": 23,
   "metadata": {},
   "outputs": [
    {
     "name": "stderr",
     "output_type": "stream",
     "text": [
      "/Users/austinkrause/anaconda3/lib/python3.7/site-packages/ipykernel_launcher.py:1: FutureWarning: Sorting because non-concatenation axis is not aligned. A future version\n",
      "of pandas will change to not sort by default.\n",
      "\n",
      "To accept the future behavior, pass 'sort=False'.\n",
      "\n",
      "To retain the current behavior and silence the warning, pass 'sort=True'.\n",
      "\n",
      "  \"\"\"Entry point for launching an IPython kernel.\n"
     ]
    }
   ],
   "source": [
    "all_hourly_orders = pd.concat([final_orders, no_orders], join = 'outer')"
   ]
  },
  {
   "cell_type": "code",
   "execution_count": 24,
   "metadata": {},
   "outputs": [],
   "source": [
    "all_hourly_orders = all_hourly_orders.sort_values('hour')"
   ]
  },
  {
   "cell_type": "markdown",
   "metadata": {},
   "source": [
    "Final results for query 3"
   ]
  },
  {
   "cell_type": "code",
   "execution_count": 25,
   "metadata": {},
   "outputs": [
    {
     "data": {
      "text/html": [
       "<div>\n",
       "<style scoped>\n",
       "    .dataframe tbody tr th:only-of-type {\n",
       "        vertical-align: middle;\n",
       "    }\n",
       "\n",
       "    .dataframe tbody tr th {\n",
       "        vertical-align: top;\n",
       "    }\n",
       "\n",
       "    .dataframe thead th {\n",
       "        text-align: right;\n",
       "    }\n",
       "</style>\n",
       "<table border=\"1\" class=\"dataframe\">\n",
       "  <thead>\n",
       "    <tr style=\"text-align: right;\">\n",
       "      <th></th>\n",
       "      <th>hour</th>\n",
       "      <th>num_orders</th>\n",
       "      <th>num_returning_customers</th>\n",
       "      <th>total_revenue</th>\n",
       "    </tr>\n",
       "  </thead>\n",
       "  <tbody>\n",
       "    <tr>\n",
       "      <th>0</th>\n",
       "      <td>0.0</td>\n",
       "      <td>4481.0</td>\n",
       "      <td>585.0</td>\n",
       "      <td>54508.00</td>\n",
       "    </tr>\n",
       "    <tr>\n",
       "      <th>1</th>\n",
       "      <td>1.0</td>\n",
       "      <td>5495.0</td>\n",
       "      <td>706.0</td>\n",
       "      <td>62859.27</td>\n",
       "    </tr>\n",
       "    <tr>\n",
       "      <th>0</th>\n",
       "      <td>2.0</td>\n",
       "      <td>NaN</td>\n",
       "      <td>NaN</td>\n",
       "      <td>NaN</td>\n",
       "    </tr>\n",
       "    <tr>\n",
       "      <th>1</th>\n",
       "      <td>3.0</td>\n",
       "      <td>NaN</td>\n",
       "      <td>NaN</td>\n",
       "      <td>NaN</td>\n",
       "    </tr>\n",
       "    <tr>\n",
       "      <th>2</th>\n",
       "      <td>4.0</td>\n",
       "      <td>NaN</td>\n",
       "      <td>NaN</td>\n",
       "      <td>NaN</td>\n",
       "    </tr>\n",
       "    <tr>\n",
       "      <th>3</th>\n",
       "      <td>5.0</td>\n",
       "      <td>NaN</td>\n",
       "      <td>NaN</td>\n",
       "      <td>NaN</td>\n",
       "    </tr>\n",
       "    <tr>\n",
       "      <th>4</th>\n",
       "      <td>6.0</td>\n",
       "      <td>NaN</td>\n",
       "      <td>NaN</td>\n",
       "      <td>NaN</td>\n",
       "    </tr>\n",
       "    <tr>\n",
       "      <th>5</th>\n",
       "      <td>7.0</td>\n",
       "      <td>NaN</td>\n",
       "      <td>NaN</td>\n",
       "      <td>NaN</td>\n",
       "    </tr>\n",
       "    <tr>\n",
       "      <th>6</th>\n",
       "      <td>8.0</td>\n",
       "      <td>NaN</td>\n",
       "      <td>NaN</td>\n",
       "      <td>NaN</td>\n",
       "    </tr>\n",
       "    <tr>\n",
       "      <th>7</th>\n",
       "      <td>9.0</td>\n",
       "      <td>NaN</td>\n",
       "      <td>NaN</td>\n",
       "      <td>NaN</td>\n",
       "    </tr>\n",
       "    <tr>\n",
       "      <th>8</th>\n",
       "      <td>10.0</td>\n",
       "      <td>NaN</td>\n",
       "      <td>NaN</td>\n",
       "      <td>NaN</td>\n",
       "    </tr>\n",
       "    <tr>\n",
       "      <th>9</th>\n",
       "      <td>11.0</td>\n",
       "      <td>NaN</td>\n",
       "      <td>NaN</td>\n",
       "      <td>NaN</td>\n",
       "    </tr>\n",
       "    <tr>\n",
       "      <th>10</th>\n",
       "      <td>12.0</td>\n",
       "      <td>NaN</td>\n",
       "      <td>NaN</td>\n",
       "      <td>NaN</td>\n",
       "    </tr>\n",
       "    <tr>\n",
       "      <th>2</th>\n",
       "      <td>13.0</td>\n",
       "      <td>6.0</td>\n",
       "      <td>3.0</td>\n",
       "      <td>137.00</td>\n",
       "    </tr>\n",
       "    <tr>\n",
       "      <th>3</th>\n",
       "      <td>14.0</td>\n",
       "      <td>3973.0</td>\n",
       "      <td>241.0</td>\n",
       "      <td>43279.00</td>\n",
       "    </tr>\n",
       "    <tr>\n",
       "      <th>4</th>\n",
       "      <td>15.0</td>\n",
       "      <td>1838.0</td>\n",
       "      <td>148.0</td>\n",
       "      <td>18872.50</td>\n",
       "    </tr>\n",
       "    <tr>\n",
       "      <th>5</th>\n",
       "      <td>16.0</td>\n",
       "      <td>18287.0</td>\n",
       "      <td>2881.0</td>\n",
       "      <td>185631.40</td>\n",
       "    </tr>\n",
       "    <tr>\n",
       "      <th>6</th>\n",
       "      <td>17.0</td>\n",
       "      <td>45940.0</td>\n",
       "      <td>10063.0</td>\n",
       "      <td>438159.20</td>\n",
       "    </tr>\n",
       "    <tr>\n",
       "      <th>7</th>\n",
       "      <td>18.0</td>\n",
       "      <td>54200.0</td>\n",
       "      <td>12533.0</td>\n",
       "      <td>522385.90</td>\n",
       "    </tr>\n",
       "    <tr>\n",
       "      <th>8</th>\n",
       "      <td>19.0</td>\n",
       "      <td>23461.0</td>\n",
       "      <td>4219.0</td>\n",
       "      <td>233999.00</td>\n",
       "    </tr>\n",
       "    <tr>\n",
       "      <th>9</th>\n",
       "      <td>20.0</td>\n",
       "      <td>14325.0</td>\n",
       "      <td>3369.0</td>\n",
       "      <td>152570.80</td>\n",
       "    </tr>\n",
       "    <tr>\n",
       "      <th>10</th>\n",
       "      <td>21.0</td>\n",
       "      <td>10652.0</td>\n",
       "      <td>1455.0</td>\n",
       "      <td>114032.70</td>\n",
       "    </tr>\n",
       "    <tr>\n",
       "      <th>11</th>\n",
       "      <td>22.0</td>\n",
       "      <td>7869.0</td>\n",
       "      <td>1398.0</td>\n",
       "      <td>81454.50</td>\n",
       "    </tr>\n",
       "    <tr>\n",
       "      <th>12</th>\n",
       "      <td>23.0</td>\n",
       "      <td>4385.0</td>\n",
       "      <td>528.0</td>\n",
       "      <td>55753.70</td>\n",
       "    </tr>\n",
       "  </tbody>\n",
       "</table>\n",
       "</div>"
      ],
      "text/plain": [
       "    hour  num_orders  num_returning_customers  total_revenue\n",
       "0    0.0      4481.0                    585.0       54508.00\n",
       "1    1.0      5495.0                    706.0       62859.27\n",
       "0    2.0         NaN                      NaN            NaN\n",
       "1    3.0         NaN                      NaN            NaN\n",
       "2    4.0         NaN                      NaN            NaN\n",
       "3    5.0         NaN                      NaN            NaN\n",
       "4    6.0         NaN                      NaN            NaN\n",
       "5    7.0         NaN                      NaN            NaN\n",
       "6    8.0         NaN                      NaN            NaN\n",
       "7    9.0         NaN                      NaN            NaN\n",
       "8   10.0         NaN                      NaN            NaN\n",
       "9   11.0         NaN                      NaN            NaN\n",
       "10  12.0         NaN                      NaN            NaN\n",
       "2   13.0         6.0                      3.0         137.00\n",
       "3   14.0      3973.0                    241.0       43279.00\n",
       "4   15.0      1838.0                    148.0       18872.50\n",
       "5   16.0     18287.0                   2881.0      185631.40\n",
       "6   17.0     45940.0                  10063.0      438159.20\n",
       "7   18.0     54200.0                  12533.0      522385.90\n",
       "8   19.0     23461.0                   4219.0      233999.00\n",
       "9   20.0     14325.0                   3369.0      152570.80\n",
       "10  21.0     10652.0                   1455.0      114032.70\n",
       "11  22.0      7869.0                   1398.0       81454.50\n",
       "12  23.0      4385.0                    528.0       55753.70"
      ]
     },
     "execution_count": 25,
     "metadata": {},
     "output_type": "execute_result"
    }
   ],
   "source": [
    "all_hourly_orders"
   ]
  },
  {
   "cell_type": "markdown",
   "metadata": {},
   "source": [
    "<h1>Query 4</h1>\n",
    "<h6>We'd like to know the difference in revenue from customers who have completed one order versus customers who have completed more than one order. Write a query that shows the total revenue (total_price less total_tax) for each of these two groups: New Customers and Returning Customers."
   ]
  },
  {
   "cell_type": "markdown",
   "metadata": {},
   "source": [
    "For this query, I split the initial dataframe into two seperate dataframes (new customers and returning customers)"
   ]
  },
  {
   "cell_type": "markdown",
   "metadata": {},
   "source": [
    "Find the total revenue from each customer and their total amount of orders"
   ]
  },
  {
   "cell_type": "code",
   "execution_count": 26,
   "metadata": {},
   "outputs": [],
   "source": [
    "customer_totals = df.groupby('customer_id')['total_less_tax'].agg(['sum', 'count']).reset_index()"
   ]
  },
  {
   "cell_type": "code",
   "execution_count": 27,
   "metadata": {},
   "outputs": [],
   "source": [
    "customer_totals = customer_totals.sort_values('count')"
   ]
  },
  {
   "cell_type": "code",
   "execution_count": 28,
   "metadata": {},
   "outputs": [],
   "source": [
    "customer_totals.columns = ['customer_id', 'total_revenue', 'num_orders']"
   ]
  },
  {
   "cell_type": "markdown",
   "metadata": {},
   "source": [
    "Split the grouped dataframe into 2 dataframes"
   ]
  },
  {
   "cell_type": "code",
   "execution_count": 29,
   "metadata": {},
   "outputs": [],
   "source": [
    "new_customers = customer_totals.loc[customer_totals['num_orders'] == 1]\n",
    "returning_customers = customer_totals.loc[customer_totals['num_orders'] != 1]"
   ]
  },
  {
   "cell_type": "markdown",
   "metadata": {},
   "source": [
    "Final results for query 4"
   ]
  },
  {
   "cell_type": "code",
   "execution_count": 30,
   "metadata": {},
   "outputs": [
    {
     "data": {
      "text/plain": [
       "1634850.9699999997"
      ]
     },
     "execution_count": 30,
     "metadata": {},
     "output_type": "execute_result"
    }
   ],
   "source": [
    "new_customers['total_revenue'].sum()"
   ]
  },
  {
   "cell_type": "code",
   "execution_count": 31,
   "metadata": {},
   "outputs": [
    {
     "data": {
      "text/plain": [
       "397131.3"
      ]
     },
     "execution_count": 31,
     "metadata": {},
     "output_type": "execute_result"
    }
   ],
   "source": [
    "returning_customers['total_revenue'].sum()"
   ]
  },
  {
   "cell_type": "markdown",
   "metadata": {},
   "source": [
    "<h1>Query 5</h1>\n",
    "<h6>We'd like a rudimentary estimate of when a customer might place another order and the next order's value, based on the time between their last two orders. For all customers that have completed more than one order, write a query that shows the customer_id, last_order_date and next_projected_order_date, and next_projected_order_value where next_projected_order_date is their last order plus the amount of time between their last two orders and next_projected_order_value is the average of their last two orders' total_price less total_tax."
   ]
  },
  {
   "cell_type": "markdown",
   "metadata": {},
   "source": [
    "For this query, I can build off of query 4, using the returning customers dataframe"
   ]
  },
  {
   "cell_type": "code",
   "execution_count": 32,
   "metadata": {},
   "outputs": [],
   "source": [
    "#create list of customers who have > 1 order\n",
    "returning_list = returning_customers.customer_id.to_list()"
   ]
  },
  {
   "cell_type": "code",
   "execution_count": 33,
   "metadata": {},
   "outputs": [],
   "source": [
    "#create a new full dataframe using the customers in returning_list\n",
    "returning_full_df = df[df['customer_id'].isin(returning_list)]"
   ]
  },
  {
   "cell_type": "code",
   "execution_count": 34,
   "metadata": {},
   "outputs": [],
   "source": [
    "#sort by customer_id and closing time\n",
    "returning_full_df = returning_full_df.sort_values(['customer_id', 'closed_at'])"
   ]
  },
  {
   "cell_type": "code",
   "execution_count": 35,
   "metadata": {},
   "outputs": [
    {
     "data": {
      "text/html": [
       "<div>\n",
       "<style scoped>\n",
       "    .dataframe tbody tr th:only-of-type {\n",
       "        vertical-align: middle;\n",
       "    }\n",
       "\n",
       "    .dataframe tbody tr th {\n",
       "        vertical-align: top;\n",
       "    }\n",
       "\n",
       "    .dataframe thead th {\n",
       "        text-align: right;\n",
       "    }\n",
       "</style>\n",
       "<table border=\"1\" class=\"dataframe\">\n",
       "  <thead>\n",
       "    <tr style=\"text-align: right;\">\n",
       "      <th></th>\n",
       "      <th>order_id</th>\n",
       "      <th>customer_id</th>\n",
       "      <th>created_at</th>\n",
       "      <th>updated_at</th>\n",
       "      <th>closed_at</th>\n",
       "      <th>processed_at</th>\n",
       "      <th>status</th>\n",
       "      <th>number</th>\n",
       "      <th>total_price</th>\n",
       "      <th>total_less_tax</th>\n",
       "      <th>total_tax</th>\n",
       "      <th>payment_status</th>\n",
       "      <th>closed_hour</th>\n",
       "    </tr>\n",
       "  </thead>\n",
       "  <tbody>\n",
       "    <tr>\n",
       "      <th>72589</th>\n",
       "      <td>8.561098e+11</td>\n",
       "      <td>0005aaf0</td>\n",
       "      <td>2019-01-05 11:33:56</td>\n",
       "      <td>2019-01-07 17:06:09</td>\n",
       "      <td>2019-01-07 17:06:09</td>\n",
       "      <td>2019-01-05 11:33:56</td>\n",
       "      <td>fulfilled</td>\n",
       "      <td>875783</td>\n",
       "      <td>9.00</td>\n",
       "      <td>9.0</td>\n",
       "      <td>0.00</td>\n",
       "      <td>paid</td>\n",
       "      <td>17.0</td>\n",
       "    </tr>\n",
       "    <tr>\n",
       "      <th>72550</th>\n",
       "      <td>8.561096e+11</td>\n",
       "      <td>0005aaf0</td>\n",
       "      <td>2019-01-05 11:33:46</td>\n",
       "      <td>2019-01-07 17:06:10</td>\n",
       "      <td>2019-01-07 17:06:10</td>\n",
       "      <td>2019-01-05 11:33:46</td>\n",
       "      <td>fulfilled</td>\n",
       "      <td>875781</td>\n",
       "      <td>9.00</td>\n",
       "      <td>9.0</td>\n",
       "      <td>0.00</td>\n",
       "      <td>paid</td>\n",
       "      <td>17.0</td>\n",
       "    </tr>\n",
       "    <tr>\n",
       "      <th>17935</th>\n",
       "      <td>8.921384e+11</td>\n",
       "      <td>0005aaf0</td>\n",
       "      <td>2019-03-09 11:28:13</td>\n",
       "      <td>2019-03-11 16:20:44</td>\n",
       "      <td>2019-03-11 16:20:44</td>\n",
       "      <td>2019-03-09 11:28:13.000000</td>\n",
       "      <td>fulfilled</td>\n",
       "      <td>1008794</td>\n",
       "      <td>9.00</td>\n",
       "      <td>9.0</td>\n",
       "      <td>0.00</td>\n",
       "      <td>paid</td>\n",
       "      <td>16.0</td>\n",
       "    </tr>\n",
       "    <tr>\n",
       "      <th>12222</th>\n",
       "      <td>8.921383e+11</td>\n",
       "      <td>0005aaf0</td>\n",
       "      <td>2019-03-09 11:27:59</td>\n",
       "      <td>2019-03-11 16:20:46</td>\n",
       "      <td>2019-03-11 16:20:46</td>\n",
       "      <td>2019-03-09 11:27:59.000000</td>\n",
       "      <td>fulfilled</td>\n",
       "      <td>1008792</td>\n",
       "      <td>9.00</td>\n",
       "      <td>9.0</td>\n",
       "      <td>0.00</td>\n",
       "      <td>paid</td>\n",
       "      <td>16.0</td>\n",
       "    </tr>\n",
       "    <tr>\n",
       "      <th>137103</th>\n",
       "      <td>8.622300e+11</td>\n",
       "      <td>000b5078</td>\n",
       "      <td>2019-02-14 11:16:30</td>\n",
       "      <td>2019-02-14 18:23:00</td>\n",
       "      <td>2019-02-14 18:23:00</td>\n",
       "      <td>2019-02-14 11:16:30.000000</td>\n",
       "      <td>fulfilled</td>\n",
       "      <td>895204</td>\n",
       "      <td>9.54</td>\n",
       "      <td>9.0</td>\n",
       "      <td>0.54</td>\n",
       "      <td>paid</td>\n",
       "      <td>18.0</td>\n",
       "    </tr>\n",
       "  </tbody>\n",
       "</table>\n",
       "</div>"
      ],
      "text/plain": [
       "            order_id customer_id          created_at          updated_at  \\\n",
       "72589   8.561098e+11    0005aaf0 2019-01-05 11:33:56 2019-01-07 17:06:09   \n",
       "72550   8.561096e+11    0005aaf0 2019-01-05 11:33:46 2019-01-07 17:06:10   \n",
       "17935   8.921384e+11    0005aaf0 2019-03-09 11:28:13 2019-03-11 16:20:44   \n",
       "12222   8.921383e+11    0005aaf0 2019-03-09 11:27:59 2019-03-11 16:20:46   \n",
       "137103  8.622300e+11    000b5078 2019-02-14 11:16:30 2019-02-14 18:23:00   \n",
       "\n",
       "                 closed_at                processed_at     status   number  \\\n",
       "72589  2019-01-07 17:06:09         2019-01-05 11:33:56  fulfilled   875783   \n",
       "72550  2019-01-07 17:06:10         2019-01-05 11:33:46  fulfilled   875781   \n",
       "17935  2019-03-11 16:20:44  2019-03-09 11:28:13.000000  fulfilled  1008794   \n",
       "12222  2019-03-11 16:20:46  2019-03-09 11:27:59.000000  fulfilled  1008792   \n",
       "137103 2019-02-14 18:23:00  2019-02-14 11:16:30.000000  fulfilled   895204   \n",
       "\n",
       "        total_price  total_less_tax  total_tax payment_status  closed_hour  \n",
       "72589          9.00             9.0       0.00           paid         17.0  \n",
       "72550          9.00             9.0       0.00           paid         17.0  \n",
       "17935          9.00             9.0       0.00           paid         16.0  \n",
       "12222          9.00             9.0       0.00           paid         16.0  \n",
       "137103         9.54             9.0       0.54           paid         18.0  "
      ]
     },
     "execution_count": 35,
     "metadata": {},
     "output_type": "execute_result"
    }
   ],
   "source": [
    "returning_full_df.head()"
   ]
  },
  {
   "cell_type": "markdown",
   "metadata": {},
   "source": [
    "Create a function to project the next purchase date and amounts"
   ]
  },
  {
   "cell_type": "code",
   "execution_count": 36,
   "metadata": {},
   "outputs": [],
   "source": [
    "def project_next_purchase(list_of_customers):\n",
    "    #create empty list to hold dictionaries\n",
    "    projected_purchases = []\n",
    "    #set a counter for the customer index\n",
    "    customer_index = 0\n",
    "    \n",
    "    for i in list_of_customers:\n",
    "        #create individual dataframe for each customer in the loop\n",
    "        customer_df = returning_full_df.loc[returning_full_df['customer_id'] == i]\n",
    "        \n",
    "        #create empty dictionary to hold new projections\n",
    "        next_purchase_info = {}\n",
    "        #customer_id\n",
    "        next_purchase_info['customer_id'] = i\n",
    "        #most recent order date\n",
    "        next_purchase_info['last_order_date'] = customer_df['closed_at'].iloc[-1]\n",
    "        #find time difference between last two orders, then add it to the most recent order\n",
    "        next_purchase_info['next_projected_order_date'] = customer_df['closed_at'].iloc[-1] + (customer_df['closed_at'].iloc[-1] - customer_df['closed_at'].iloc[-2])\n",
    "        #find average revenue from last two orders\n",
    "        next_purchase_info['next_projected_order_value'] = (customer_df['total_less_tax'].iloc[-2] + customer_df['total_less_tax'].iloc[-1])/2\n",
    "        #append dictionary to list\n",
    "        projected_purchases.append(next_purchase_info)\n",
    "        \n",
    "        customer_index += 1\n",
    "        \n",
    "    return projected_purchases"
   ]
  },
  {
   "cell_type": "code",
   "execution_count": 37,
   "metadata": {},
   "outputs": [],
   "source": [
    "projected_purchases = project_next_purchase(returning_list)"
   ]
  },
  {
   "cell_type": "code",
   "execution_count": 38,
   "metadata": {},
   "outputs": [],
   "source": [
    "projected_purchases_df = pd.DataFrame.from_dict(projected_purchases)"
   ]
  },
  {
   "cell_type": "markdown",
   "metadata": {},
   "source": [
    "Preview of final results for query 5. To view more rows, change the value in .head( )."
   ]
  },
  {
   "cell_type": "code",
   "execution_count": 39,
   "metadata": {},
   "outputs": [
    {
     "data": {
      "text/html": [
       "<div>\n",
       "<style scoped>\n",
       "    .dataframe tbody tr th:only-of-type {\n",
       "        vertical-align: middle;\n",
       "    }\n",
       "\n",
       "    .dataframe tbody tr th {\n",
       "        vertical-align: top;\n",
       "    }\n",
       "\n",
       "    .dataframe thead th {\n",
       "        text-align: right;\n",
       "    }\n",
       "</style>\n",
       "<table border=\"1\" class=\"dataframe\">\n",
       "  <thead>\n",
       "    <tr style=\"text-align: right;\">\n",
       "      <th></th>\n",
       "      <th>customer_id</th>\n",
       "      <th>last_order_date</th>\n",
       "      <th>next_projected_order_date</th>\n",
       "      <th>next_projected_order_value</th>\n",
       "    </tr>\n",
       "  </thead>\n",
       "  <tbody>\n",
       "    <tr>\n",
       "      <th>0</th>\n",
       "      <td>7147f69d</td>\n",
       "      <td>2019-03-04 20:05:04</td>\n",
       "      <td>2019-05-06 21:31:46</td>\n",
       "      <td>9.0</td>\n",
       "    </tr>\n",
       "    <tr>\n",
       "      <th>1</th>\n",
       "      <td>00286940</td>\n",
       "      <td>2019-03-11 18:31:57</td>\n",
       "      <td>2019-03-22 17:10:30</td>\n",
       "      <td>9.0</td>\n",
       "    </tr>\n",
       "    <tr>\n",
       "      <th>2</th>\n",
       "      <td>87885c02</td>\n",
       "      <td>2019-03-04 18:26:55</td>\n",
       "      <td>2019-05-06 18:47:29</td>\n",
       "      <td>9.0</td>\n",
       "    </tr>\n",
       "    <tr>\n",
       "      <th>3</th>\n",
       "      <td>f5653a6d</td>\n",
       "      <td>NaT</td>\n",
       "      <td>NaT</td>\n",
       "      <td>9.0</td>\n",
       "    </tr>\n",
       "    <tr>\n",
       "      <th>4</th>\n",
       "      <td>78e87a63</td>\n",
       "      <td>2019-01-01 00:02:46</td>\n",
       "      <td>2019-01-01 03:51:38</td>\n",
       "      <td>8.5</td>\n",
       "    </tr>\n",
       "    <tr>\n",
       "      <th>5</th>\n",
       "      <td>72436c76</td>\n",
       "      <td>2019-03-06 20:02:13</td>\n",
       "      <td>2019-05-08 19:39:53</td>\n",
       "      <td>9.0</td>\n",
       "    </tr>\n",
       "    <tr>\n",
       "      <th>6</th>\n",
       "      <td>0745389a</td>\n",
       "      <td>2019-03-06 19:03:00</td>\n",
       "      <td>2019-05-08 17:54:15</td>\n",
       "      <td>9.0</td>\n",
       "    </tr>\n",
       "    <tr>\n",
       "      <th>7</th>\n",
       "      <td>ffcf3677</td>\n",
       "      <td>2019-03-04 18:49:44</td>\n",
       "      <td>2019-05-06 19:47:10</td>\n",
       "      <td>9.0</td>\n",
       "    </tr>\n",
       "    <tr>\n",
       "      <th>8</th>\n",
       "      <td>8786ddf4</td>\n",
       "      <td>2019-03-14 17:22:53</td>\n",
       "      <td>2019-04-12 16:26:27</td>\n",
       "      <td>9.0</td>\n",
       "    </tr>\n",
       "    <tr>\n",
       "      <th>9</th>\n",
       "      <td>878940f1</td>\n",
       "      <td>2019-03-11 17:08:42</td>\n",
       "      <td>2019-04-08 16:50:32</td>\n",
       "      <td>13.5</td>\n",
       "    </tr>\n",
       "  </tbody>\n",
       "</table>\n",
       "</div>"
      ],
      "text/plain": [
       "  customer_id     last_order_date next_projected_order_date  \\\n",
       "0    7147f69d 2019-03-04 20:05:04       2019-05-06 21:31:46   \n",
       "1    00286940 2019-03-11 18:31:57       2019-03-22 17:10:30   \n",
       "2    87885c02 2019-03-04 18:26:55       2019-05-06 18:47:29   \n",
       "3    f5653a6d                 NaT                       NaT   \n",
       "4    78e87a63 2019-01-01 00:02:46       2019-01-01 03:51:38   \n",
       "5    72436c76 2019-03-06 20:02:13       2019-05-08 19:39:53   \n",
       "6    0745389a 2019-03-06 19:03:00       2019-05-08 17:54:15   \n",
       "7    ffcf3677 2019-03-04 18:49:44       2019-05-06 19:47:10   \n",
       "8    8786ddf4 2019-03-14 17:22:53       2019-04-12 16:26:27   \n",
       "9    878940f1 2019-03-11 17:08:42       2019-04-08 16:50:32   \n",
       "\n",
       "   next_projected_order_value  \n",
       "0                         9.0  \n",
       "1                         9.0  \n",
       "2                         9.0  \n",
       "3                         9.0  \n",
       "4                         8.5  \n",
       "5                         9.0  \n",
       "6                         9.0  \n",
       "7                         9.0  \n",
       "8                         9.0  \n",
       "9                        13.5  "
      ]
     },
     "execution_count": 39,
     "metadata": {},
     "output_type": "execute_result"
    }
   ],
   "source": [
    "projected_purchases_df.head(10)"
   ]
  },
  {
   "cell_type": "markdown",
   "metadata": {},
   "source": [
    "<h1>Query 6</h1>\n",
    "<h6>You might find that some customers have orders that are only seconds apart from each other. This seems like bad data. Copy the query from #5 and ammend to filter out any customers whose orders are less than a minute from each other."
   ]
  },
  {
   "cell_type": "markdown",
   "metadata": {},
   "source": [
    "For this query I build on the dataframe from query 5 "
   ]
  },
  {
   "cell_type": "code",
   "execution_count": 40,
   "metadata": {},
   "outputs": [],
   "source": [
    "#create new column showing the amount of time between the last two orders\n",
    "projected_purchases_df['time_between_orders'] = projected_purchases_df['next_projected_order_date'] - projected_purchases_df['last_order_date']"
   ]
  },
  {
   "cell_type": "markdown",
   "metadata": {},
   "source": [
    "Create new dataframe filtering out rows that have < 60 seconds difference between orders"
   ]
  },
  {
   "cell_type": "code",
   "execution_count": 41,
   "metadata": {},
   "outputs": [],
   "source": [
    "projected_purchases_final = projected_purchases_df[projected_purchases_df['time_between_orders'].dt.total_seconds() > 60]"
   ]
  },
  {
   "cell_type": "code",
   "execution_count": 42,
   "metadata": {},
   "outputs": [],
   "source": [
    "projected_purchases_final = projected_purchases_final.sort_values('time_between_orders')"
   ]
  },
  {
   "cell_type": "markdown",
   "metadata": {},
   "source": [
    "Preview of final results for query 6. To view more rows, change the value in .head( )."
   ]
  },
  {
   "cell_type": "code",
   "execution_count": 43,
   "metadata": {},
   "outputs": [
    {
     "data": {
      "text/html": [
       "<div>\n",
       "<style scoped>\n",
       "    .dataframe tbody tr th:only-of-type {\n",
       "        vertical-align: middle;\n",
       "    }\n",
       "\n",
       "    .dataframe tbody tr th {\n",
       "        vertical-align: top;\n",
       "    }\n",
       "\n",
       "    .dataframe thead th {\n",
       "        text-align: right;\n",
       "    }\n",
       "</style>\n",
       "<table border=\"1\" class=\"dataframe\">\n",
       "  <thead>\n",
       "    <tr style=\"text-align: right;\">\n",
       "      <th></th>\n",
       "      <th>customer_id</th>\n",
       "      <th>last_order_date</th>\n",
       "      <th>next_projected_order_date</th>\n",
       "      <th>next_projected_order_value</th>\n",
       "      <th>time_between_orders</th>\n",
       "    </tr>\n",
       "  </thead>\n",
       "  <tbody>\n",
       "    <tr>\n",
       "      <th>14843</th>\n",
       "      <td>8e26e426</td>\n",
       "      <td>2019-03-04 20:10:53</td>\n",
       "      <td>2019-03-04 20:11:59</td>\n",
       "      <td>9.0</td>\n",
       "      <td>00:01:06</td>\n",
       "    </tr>\n",
       "    <tr>\n",
       "      <th>6564</th>\n",
       "      <td>4f51ef15</td>\n",
       "      <td>2019-03-08 17:06:05</td>\n",
       "      <td>2019-03-08 17:07:16</td>\n",
       "      <td>9.0</td>\n",
       "      <td>00:01:11</td>\n",
       "    </tr>\n",
       "    <tr>\n",
       "      <th>14945</th>\n",
       "      <td>1772e835</td>\n",
       "      <td>2018-12-31 16:31:04</td>\n",
       "      <td>2018-12-31 16:32:20</td>\n",
       "      <td>8.5</td>\n",
       "      <td>00:01:16</td>\n",
       "    </tr>\n",
       "    <tr>\n",
       "      <th>8237</th>\n",
       "      <td>554f34be</td>\n",
       "      <td>2019-03-11 16:06:44</td>\n",
       "      <td>2019-03-11 16:08:01</td>\n",
       "      <td>9.0</td>\n",
       "      <td>00:01:17</td>\n",
       "    </tr>\n",
       "    <tr>\n",
       "      <th>18646</th>\n",
       "      <td>30a712a2</td>\n",
       "      <td>2019-03-14 18:03:34</td>\n",
       "      <td>2019-03-14 18:04:52</td>\n",
       "      <td>12.5</td>\n",
       "      <td>00:01:18</td>\n",
       "    </tr>\n",
       "    <tr>\n",
       "      <th>12189</th>\n",
       "      <td>63994e3b</td>\n",
       "      <td>2019-01-14 17:03:40</td>\n",
       "      <td>2019-01-14 17:05:00</td>\n",
       "      <td>8.5</td>\n",
       "      <td>00:01:20</td>\n",
       "    </tr>\n",
       "    <tr>\n",
       "      <th>12213</th>\n",
       "      <td>e1aae39d</td>\n",
       "      <td>2019-02-25 16:23:55</td>\n",
       "      <td>2019-02-25 16:25:16</td>\n",
       "      <td>17.0</td>\n",
       "      <td>00:01:21</td>\n",
       "    </tr>\n",
       "    <tr>\n",
       "      <th>8110</th>\n",
       "      <td>cd23d4dc</td>\n",
       "      <td>2019-03-05 19:04:31</td>\n",
       "      <td>2019-03-05 19:05:59</td>\n",
       "      <td>8.0</td>\n",
       "      <td>00:01:28</td>\n",
       "    </tr>\n",
       "    <tr>\n",
       "      <th>14687</th>\n",
       "      <td>8d2939cb</td>\n",
       "      <td>2019-02-28 20:06:57</td>\n",
       "      <td>2019-02-28 20:08:27</td>\n",
       "      <td>9.0</td>\n",
       "      <td>00:01:30</td>\n",
       "    </tr>\n",
       "    <tr>\n",
       "      <th>8382</th>\n",
       "      <td>54e03148</td>\n",
       "      <td>2019-02-15 17:18:18</td>\n",
       "      <td>2019-02-15 17:19:52</td>\n",
       "      <td>9.0</td>\n",
       "      <td>00:01:34</td>\n",
       "    </tr>\n",
       "  </tbody>\n",
       "</table>\n",
       "</div>"
      ],
      "text/plain": [
       "      customer_id     last_order_date next_projected_order_date  \\\n",
       "14843    8e26e426 2019-03-04 20:10:53       2019-03-04 20:11:59   \n",
       "6564     4f51ef15 2019-03-08 17:06:05       2019-03-08 17:07:16   \n",
       "14945    1772e835 2018-12-31 16:31:04       2018-12-31 16:32:20   \n",
       "8237     554f34be 2019-03-11 16:06:44       2019-03-11 16:08:01   \n",
       "18646    30a712a2 2019-03-14 18:03:34       2019-03-14 18:04:52   \n",
       "12189    63994e3b 2019-01-14 17:03:40       2019-01-14 17:05:00   \n",
       "12213    e1aae39d 2019-02-25 16:23:55       2019-02-25 16:25:16   \n",
       "8110     cd23d4dc 2019-03-05 19:04:31       2019-03-05 19:05:59   \n",
       "14687    8d2939cb 2019-02-28 20:06:57       2019-02-28 20:08:27   \n",
       "8382     54e03148 2019-02-15 17:18:18       2019-02-15 17:19:52   \n",
       "\n",
       "       next_projected_order_value time_between_orders  \n",
       "14843                         9.0            00:01:06  \n",
       "6564                          9.0            00:01:11  \n",
       "14945                         8.5            00:01:16  \n",
       "8237                          9.0            00:01:17  \n",
       "18646                        12.5            00:01:18  \n",
       "12189                         8.5            00:01:20  \n",
       "12213                        17.0            00:01:21  \n",
       "8110                          8.0            00:01:28  \n",
       "14687                         9.0            00:01:30  \n",
       "8382                          9.0            00:01:34  "
      ]
     },
     "execution_count": 43,
     "metadata": {},
     "output_type": "execute_result"
    }
   ],
   "source": [
    "projected_purchases_final.head(10)"
   ]
  },
  {
   "cell_type": "code",
   "execution_count": null,
   "metadata": {},
   "outputs": [],
   "source": []
  }
 ],
 "metadata": {
  "kernelspec": {
   "display_name": "Python 3",
   "language": "python",
   "name": "python3"
  },
  "language_info": {
   "codemirror_mode": {
    "name": "ipython",
    "version": 3
   },
   "file_extension": ".py",
   "mimetype": "text/x-python",
   "name": "python",
   "nbconvert_exporter": "python",
   "pygments_lexer": "ipython3",
   "version": "3.7.2"
  }
 },
 "nbformat": 4,
 "nbformat_minor": 2
}
