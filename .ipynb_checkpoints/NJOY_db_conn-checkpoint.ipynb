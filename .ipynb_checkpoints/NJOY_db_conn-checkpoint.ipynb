{
 "cells": [
  {
   "cell_type": "markdown",
   "metadata": {},
   "source": [
    "<h1>Import necessary libraries"
   ]
  },
  {
   "cell_type": "code",
   "execution_count": 13,
   "metadata": {},
   "outputs": [],
   "source": [
    "import pandas as pd\n",
    "import psycopg2 as pg\n",
    "import pandas.io.sql as psql\n",
    "import matplotlib as plt\n",
    "\n",
    "%matplotlib inline"
   ]
  },
  {
   "cell_type": "markdown",
   "metadata": {},
   "source": [
    "<h1>Connect to DB"
   ]
  },
  {
   "cell_type": "code",
   "execution_count": 14,
   "metadata": {},
   "outputs": [
    {
     "data": {
      "text/html": [
       "<div>\n",
       "<style scoped>\n",
       "    .dataframe tbody tr th:only-of-type {\n",
       "        vertical-align: middle;\n",
       "    }\n",
       "\n",
       "    .dataframe tbody tr th {\n",
       "        vertical-align: top;\n",
       "    }\n",
       "\n",
       "    .dataframe thead th {\n",
       "        text-align: right;\n",
       "    }\n",
       "</style>\n",
       "<table border=\"1\" class=\"dataframe\">\n",
       "  <thead>\n",
       "    <tr style=\"text-align: right;\">\n",
       "      <th></th>\n",
       "      <th>count</th>\n",
       "    </tr>\n",
       "  </thead>\n",
       "  <tbody>\n",
       "    <tr>\n",
       "      <th>0</th>\n",
       "      <td>201570</td>\n",
       "    </tr>\n",
       "  </tbody>\n",
       "</table>\n",
       "</div>"
      ],
      "text/plain": [
       "    count\n",
       "0  201570"
      ]
     },
     "execution_count": 14,
     "metadata": {},
     "output_type": "execute_result"
    }
   ],
   "source": [
    "conn = pg.connect(\" dbname='dev' host='njoy-testing-env.c2ag7j9q24ns.us-east-1.rds.amazonaws.com' user='reader' port='5416' password='MbmeL8ku6x'\")\n",
    "df = psql.read_sql('SELECT count(1) from public.orders', conn)\n",
    "df.head()"
   ]
  },
  {
   "cell_type": "code",
   "execution_count": 15,
   "metadata": {},
   "outputs": [],
   "source": [
    "df = psql.read_sql('SELECT * from public.orders', conn)"
   ]
  },
  {
   "cell_type": "markdown",
   "metadata": {},
   "source": [
    "<h1>Preview of DataFrame"
   ]
  },
  {
   "cell_type": "code",
   "execution_count": 44,
   "metadata": {},
   "outputs": [
    {
     "data": {
      "text/html": [
       "<div>\n",
       "<style scoped>\n",
       "    .dataframe tbody tr th:only-of-type {\n",
       "        vertical-align: middle;\n",
       "    }\n",
       "\n",
       "    .dataframe tbody tr th {\n",
       "        vertical-align: top;\n",
       "    }\n",
       "\n",
       "    .dataframe thead th {\n",
       "        text-align: right;\n",
       "    }\n",
       "</style>\n",
       "<table border=\"1\" class=\"dataframe\">\n",
       "  <thead>\n",
       "    <tr style=\"text-align: right;\">\n",
       "      <th></th>\n",
       "      <th>order_id</th>\n",
       "      <th>customer_id</th>\n",
       "      <th>created_at</th>\n",
       "      <th>updated_at</th>\n",
       "      <th>closed_at</th>\n",
       "      <th>processed_at</th>\n",
       "      <th>status</th>\n",
       "      <th>number</th>\n",
       "      <th>total_price</th>\n",
       "      <th>total_less_tax</th>\n",
       "      <th>total_tax</th>\n",
       "      <th>payment_status</th>\n",
       "      <th>closed_hour</th>\n",
       "    </tr>\n",
       "  </thead>\n",
       "  <tbody>\n",
       "    <tr>\n",
       "      <th>0</th>\n",
       "      <td>8.974965e+11</td>\n",
       "      <td>230824c2</td>\n",
       "      <td>2019-03-13 18:14:55</td>\n",
       "      <td>2019-03-13 22:01:40</td>\n",
       "      <td>2019-03-13 22:01:39</td>\n",
       "      <td>2019-03-13 18:14:55.000000</td>\n",
       "      <td>fulfilled</td>\n",
       "      <td>1029702</td>\n",
       "      <td>18.28</td>\n",
       "      <td>17.0</td>\n",
       "      <td>1.28</td>\n",
       "      <td>paid</td>\n",
       "      <td>22.0</td>\n",
       "    </tr>\n",
       "    <tr>\n",
       "      <th>1</th>\n",
       "      <td>8.975937e+11</td>\n",
       "      <td>7100545b</td>\n",
       "      <td>2019-03-13 19:33:50</td>\n",
       "      <td>2019-03-13 23:01:21</td>\n",
       "      <td>2019-03-13 23:01:21</td>\n",
       "      <td>2019-03-13 19:33:50.000000</td>\n",
       "      <td>fulfilled</td>\n",
       "      <td>1029768</td>\n",
       "      <td>9.00</td>\n",
       "      <td>9.0</td>\n",
       "      <td>0.00</td>\n",
       "      <td>paid</td>\n",
       "      <td>23.0</td>\n",
       "    </tr>\n",
       "    <tr>\n",
       "      <th>2</th>\n",
       "      <td>8.975785e+11</td>\n",
       "      <td>3de1dc29</td>\n",
       "      <td>2019-03-13 19:20:05</td>\n",
       "      <td>2019-03-13 23:01:33</td>\n",
       "      <td>2019-03-13 23:01:33</td>\n",
       "      <td>2019-03-13 19:20:05.000000</td>\n",
       "      <td>fulfilled</td>\n",
       "      <td>1029757</td>\n",
       "      <td>18.02</td>\n",
       "      <td>17.0</td>\n",
       "      <td>1.02</td>\n",
       "      <td>paid</td>\n",
       "      <td>23.0</td>\n",
       "    </tr>\n",
       "    <tr>\n",
       "      <th>3</th>\n",
       "      <td>8.976117e+11</td>\n",
       "      <td>cb5e4189</td>\n",
       "      <td>2019-03-13 19:50:09</td>\n",
       "      <td>2019-03-13 23:01:12</td>\n",
       "      <td>2019-03-13 23:01:11</td>\n",
       "      <td>2019-03-13 19:50:09.000000</td>\n",
       "      <td>fulfilled</td>\n",
       "      <td>1029780</td>\n",
       "      <td>9.63</td>\n",
       "      <td>9.0</td>\n",
       "      <td>0.63</td>\n",
       "      <td>paid</td>\n",
       "      <td>23.0</td>\n",
       "    </tr>\n",
       "    <tr>\n",
       "      <th>4</th>\n",
       "      <td>8.976406e+11</td>\n",
       "      <td>579c3141</td>\n",
       "      <td>2019-03-13 20:17:01</td>\n",
       "      <td>2019-03-14 00:01:23</td>\n",
       "      <td>2019-03-14 00:01:23</td>\n",
       "      <td>2019-03-13 20:17:01.000000</td>\n",
       "      <td>fulfilled</td>\n",
       "      <td>1029803</td>\n",
       "      <td>9.26</td>\n",
       "      <td>9.0</td>\n",
       "      <td>0.26</td>\n",
       "      <td>paid</td>\n",
       "      <td>0.0</td>\n",
       "    </tr>\n",
       "  </tbody>\n",
       "</table>\n",
       "</div>"
      ],
      "text/plain": [
       "       order_id customer_id          created_at          updated_at  \\\n",
       "0  8.974965e+11    230824c2 2019-03-13 18:14:55 2019-03-13 22:01:40   \n",
       "1  8.975937e+11    7100545b 2019-03-13 19:33:50 2019-03-13 23:01:21   \n",
       "2  8.975785e+11    3de1dc29 2019-03-13 19:20:05 2019-03-13 23:01:33   \n",
       "3  8.976117e+11    cb5e4189 2019-03-13 19:50:09 2019-03-13 23:01:12   \n",
       "4  8.976406e+11    579c3141 2019-03-13 20:17:01 2019-03-14 00:01:23   \n",
       "\n",
       "            closed_at                processed_at     status   number  \\\n",
       "0 2019-03-13 22:01:39  2019-03-13 18:14:55.000000  fulfilled  1029702   \n",
       "1 2019-03-13 23:01:21  2019-03-13 19:33:50.000000  fulfilled  1029768   \n",
       "2 2019-03-13 23:01:33  2019-03-13 19:20:05.000000  fulfilled  1029757   \n",
       "3 2019-03-13 23:01:11  2019-03-13 19:50:09.000000  fulfilled  1029780   \n",
       "4 2019-03-14 00:01:23  2019-03-13 20:17:01.000000  fulfilled  1029803   \n",
       "\n",
       "   total_price  total_less_tax  total_tax payment_status  closed_hour  \n",
       "0        18.28            17.0       1.28           paid         22.0  \n",
       "1         9.00             9.0       0.00           paid         23.0  \n",
       "2        18.02            17.0       1.02           paid         23.0  \n",
       "3         9.63             9.0       0.63           paid         23.0  \n",
       "4         9.26             9.0       0.26           paid          0.0  "
      ]
     },
     "execution_count": 44,
     "metadata": {},
     "output_type": "execute_result"
    }
   ],
   "source": [
    "df.head(5)"
   ]
  },
  {
   "cell_type": "code",
   "execution_count": 73,
   "metadata": {},
   "outputs": [
    {
     "data": {
      "text/plain": [
       "(201570, 13)"
      ]
     },
     "execution_count": 73,
     "metadata": {},
     "output_type": "execute_result"
    }
   ],
   "source": [
    "df.shape"
   ]
  },
  {
   "cell_type": "markdown",
   "metadata": {},
   "source": [
    "<h1>Query 1</h1>\n",
    "<h6>We need basic insight into hourly sales performance. We'd like a query that shows the following metrics by hour: <br>\n",
    "revenue (total_price less total_tax)<br>\n",
    "total number of orders<br>\n",
    "number of orders placed by a customer who has previously placed an order<br>"
   ]
  },
  {
   "cell_type": "code",
   "execution_count": 156,
   "metadata": {},
   "outputs": [],
   "source": [
    "#create column to seperate closing hour of orders\n",
    "df['closed_hour'] = df['closed_at'].dt.hour"
   ]
  },
  {
   "cell_type": "code",
   "execution_count": 201,
   "metadata": {},
   "outputs": [],
   "source": [
    "hourly_orders = df.groupby('closed_hour')['total_less_tax'].agg(['sum','count']).reset_index()"
   ]
  },
  {
   "cell_type": "code",
   "execution_count": 86,
   "metadata": {},
   "outputs": [],
   "source": [
    "customer_counts = df.groupby('customer_id').count().reset_index().sort_values('order_id', ascending = False)"
   ]
  },
  {
   "cell_type": "code",
   "execution_count": 93,
   "metadata": {},
   "outputs": [
    {
     "data": {
      "text/plain": [
       "(181105, 13)"
      ]
     },
     "execution_count": 93,
     "metadata": {},
     "output_type": "execute_result"
    }
   ],
   "source": [
    "#there are 181,105 total customers in the dataframe\n",
    "customer_counts.shape"
   ]
  },
  {
   "cell_type": "code",
   "execution_count": 165,
   "metadata": {},
   "outputs": [],
   "source": [
    "#there are 19,339 returning customers\n",
    "returning_customers = customer_counts.loc[customer_counts['order_id'] > 1][['customer_id', 'order_id']]"
   ]
  },
  {
   "cell_type": "code",
   "execution_count": 161,
   "metadata": {},
   "outputs": [],
   "source": [
    "def find_hours_of_returning_customers():\n",
    "    returning_customer_hours = {}\n",
    "    #hours = list(range(0.0, 24.0))\n",
    "    for customer in returning_customers.customer_id.to_list():\n",
    "        order_hours = df.loc[df['customer_id'] == customer].closed_hour.to_list()\n",
    "        for i in order_hours:\n",
    "            try:\n",
    "                if int(i) not in returning_customer_hours.keys():\n",
    "                    returning_customer_hours.update({i: 1})\n",
    "                else:\n",
    "                    returning_customer_hours[i] +=1\n",
    "            except:\n",
    "                pass\n",
    "    return returning_customer_hours"
   ]
  },
  {
   "cell_type": "code",
   "execution_count": 181,
   "metadata": {},
   "outputs": [],
   "source": [
    "total_returning_per_hour = find_hours_of_returning_customers()"
   ]
  },
  {
   "cell_type": "code",
   "execution_count": 191,
   "metadata": {},
   "outputs": [],
   "source": [
    "returning_df = pd.DataFrame(total_returning_per_hour, index = ['number']).transpose().reset_index()\n",
    "returning_df_sorted = returning_df.sort_values('index')"
   ]
  },
  {
   "cell_type": "code",
   "execution_count": 207,
   "metadata": {},
   "outputs": [
    {
     "data": {
      "text/html": [
       "<div>\n",
       "<style scoped>\n",
       "    .dataframe tbody tr th:only-of-type {\n",
       "        vertical-align: middle;\n",
       "    }\n",
       "\n",
       "    .dataframe tbody tr th {\n",
       "        vertical-align: top;\n",
       "    }\n",
       "\n",
       "    .dataframe thead th {\n",
       "        text-align: right;\n",
       "    }\n",
       "</style>\n",
       "<table border=\"1\" class=\"dataframe\">\n",
       "  <thead>\n",
       "    <tr style=\"text-align: right;\">\n",
       "      <th></th>\n",
       "      <th>closed_hour</th>\n",
       "      <th>sum</th>\n",
       "      <th>count</th>\n",
       "      <th>number</th>\n",
       "    </tr>\n",
       "  </thead>\n",
       "  <tbody>\n",
       "    <tr>\n",
       "      <th>0</th>\n",
       "      <td>0.0</td>\n",
       "      <td>54508.00</td>\n",
       "      <td>4481</td>\n",
       "      <td>585</td>\n",
       "    </tr>\n",
       "    <tr>\n",
       "      <th>1</th>\n",
       "      <td>1.0</td>\n",
       "      <td>62859.27</td>\n",
       "      <td>5495</td>\n",
       "      <td>706</td>\n",
       "    </tr>\n",
       "    <tr>\n",
       "      <th>2</th>\n",
       "      <td>13.0</td>\n",
       "      <td>137.00</td>\n",
       "      <td>6</td>\n",
       "      <td>3</td>\n",
       "    </tr>\n",
       "    <tr>\n",
       "      <th>3</th>\n",
       "      <td>14.0</td>\n",
       "      <td>43279.00</td>\n",
       "      <td>3973</td>\n",
       "      <td>241</td>\n",
       "    </tr>\n",
       "    <tr>\n",
       "      <th>4</th>\n",
       "      <td>15.0</td>\n",
       "      <td>18872.50</td>\n",
       "      <td>1838</td>\n",
       "      <td>148</td>\n",
       "    </tr>\n",
       "    <tr>\n",
       "      <th>5</th>\n",
       "      <td>16.0</td>\n",
       "      <td>185631.40</td>\n",
       "      <td>18287</td>\n",
       "      <td>2881</td>\n",
       "    </tr>\n",
       "    <tr>\n",
       "      <th>6</th>\n",
       "      <td>17.0</td>\n",
       "      <td>438159.20</td>\n",
       "      <td>45940</td>\n",
       "      <td>10063</td>\n",
       "    </tr>\n",
       "    <tr>\n",
       "      <th>7</th>\n",
       "      <td>18.0</td>\n",
       "      <td>522385.90</td>\n",
       "      <td>54200</td>\n",
       "      <td>12533</td>\n",
       "    </tr>\n",
       "    <tr>\n",
       "      <th>8</th>\n",
       "      <td>19.0</td>\n",
       "      <td>233999.00</td>\n",
       "      <td>23461</td>\n",
       "      <td>4219</td>\n",
       "    </tr>\n",
       "    <tr>\n",
       "      <th>9</th>\n",
       "      <td>20.0</td>\n",
       "      <td>152570.80</td>\n",
       "      <td>14325</td>\n",
       "      <td>3369</td>\n",
       "    </tr>\n",
       "    <tr>\n",
       "      <th>10</th>\n",
       "      <td>21.0</td>\n",
       "      <td>114032.70</td>\n",
       "      <td>10652</td>\n",
       "      <td>1455</td>\n",
       "    </tr>\n",
       "    <tr>\n",
       "      <th>11</th>\n",
       "      <td>22.0</td>\n",
       "      <td>81454.50</td>\n",
       "      <td>7869</td>\n",
       "      <td>1398</td>\n",
       "    </tr>\n",
       "    <tr>\n",
       "      <th>12</th>\n",
       "      <td>23.0</td>\n",
       "      <td>55753.70</td>\n",
       "      <td>4385</td>\n",
       "      <td>528</td>\n",
       "    </tr>\n",
       "  </tbody>\n",
       "</table>\n",
       "</div>"
      ],
      "text/plain": [
       "    closed_hour        sum  count  number\n",
       "0           0.0   54508.00   4481     585\n",
       "1           1.0   62859.27   5495     706\n",
       "2          13.0     137.00      6       3\n",
       "3          14.0   43279.00   3973     241\n",
       "4          15.0   18872.50   1838     148\n",
       "5          16.0  185631.40  18287    2881\n",
       "6          17.0  438159.20  45940   10063\n",
       "7          18.0  522385.90  54200   12533\n",
       "8          19.0  233999.00  23461    4219\n",
       "9          20.0  152570.80  14325    3369\n",
       "10         21.0  114032.70  10652    1455\n",
       "11         22.0   81454.50   7869    1398\n",
       "12         23.0   55753.70   4385     528"
      ]
     },
     "execution_count": 207,
     "metadata": {},
     "output_type": "execute_result"
    }
   ],
   "source": [
    "final_orders = pd.merge(hourly_orders, returning_df_sorted, left_on='closed_hour', right_on='index')\n",
    "final_orders.drop(['index'], axis = 1)"
   ]
  }
 ],
 "metadata": {
  "kernelspec": {
   "display_name": "Python 3",
   "language": "python",
   "name": "python3"
  },
  "language_info": {
   "codemirror_mode": {
    "name": "ipython",
    "version": 3
   },
   "file_extension": ".py",
   "mimetype": "text/x-python",
   "name": "python",
   "nbconvert_exporter": "python",
   "pygments_lexer": "ipython3",
   "version": "3.7.2"
  }
 },
 "nbformat": 4,
 "nbformat_minor": 2
}
